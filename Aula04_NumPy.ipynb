{
 "cells": [
  {
   "cell_type": "markdown",
   "metadata": {},
   "source": [
    "# NumPy\n",
    "- *No matter what the data are, the first step in making it analyzable will be to transform them into arrays of numbers.*\n",
    "- *NumPy arrays form the core of nearly the entire ecosystem of data science tools in Python.*\n",
    "https://jakevdp.github.io/PythonDataScienceHandbook"
   ]
  },
  {
   "cell_type": "code",
   "execution_count": null,
   "metadata": {},
   "outputs": [],
   "source": [
    "import numpy as np\n",
    "import matplotlib.pyplot as plt"
   ]
  },
  {
   "cell_type": "code",
   "execution_count": null,
   "metadata": {},
   "outputs": [],
   "source": [
    "x = np.array([1, 3])\n",
    "print(x.shape, x.ndim)"
   ]
  },
  {
   "cell_type": "markdown",
   "metadata": {},
   "source": [
    "## The NumPy array `ndarray`\n",
    "> - Eficiencia de memoria e tempo de execução<br>\n",
    "- C data types https://jakevdp.github.io/PythonDataScienceHandbook/02.01-understanding-data-types.html\n",
    "- Os arrays são *hiper-retangulares* (n-orthotopes)"
   ]
  },
  {
   "cell_type": "code",
   "execution_count": null,
   "metadata": {},
   "outputs": [],
   "source": [
    "import math\n",
    "import random\n",
    "import sys"
   ]
  },
  {
   "cell_type": "code",
   "execution_count": null,
   "metadata": {},
   "outputs": [],
   "source": [
    "n = int(1e7);\n",
    "random.seed(0)   # dar semente fixa ao gerador de numeros aleatórios para gerar sempre a mesma sequencia de numeros\n",
    "mylist = [random.randrange(1,100) for _ in range(n)]\n",
    "#print('mylist has {} elements and uses {} bytes'.format(len(mylist),sys.getsizeof(mylist)))\n",
    "print(f'mylist has {len(mylist)} elements and uses {sys.getsizeof(mylist)} bytes')\n"
   ]
  },
  {
   "cell_type": "code",
   "execution_count": null,
   "metadata": {},
   "outputs": [],
   "source": [
    "# Operating on a list\n",
    "def mylog(lista):\n",
    "    for idx, val in enumerate(lista):\n",
    "        lista[idx] = math.log10(val)\n",
    "    return lista\n",
    "\n",
    "%timeit mylog(mylist.copy())"
   ]
  },
  {
   "cell_type": "code",
   "execution_count": null,
   "metadata": {},
   "outputs": [],
   "source": [
    "# The NumPy way...\n",
    "mynda = np.array(mylist, dtype='uint8')   # creando um ndarray a partir duma list\n",
    "print(type(mynda), mynda.shape, mynda.dtype, mynda.nbytes)\n",
    "\n",
    "%timeit np.log10(mynda)\n",
    "\n"
   ]
  },
  {
   "cell_type": "markdown",
   "metadata": {},
   "source": [
    "### Creando ndarrays manualmente\n",
    ">- Criar a partir de listas (dtype para escolher tipo de dados)\n",
    "- zeros, ones (criar arrays com todos os elementos de valor 0, ou 1)\n",
    "- linspace (criar arrays de valores espaciados uniformemente entre dois valores)\n",
    "- random (criar arrays com valores aleatórios de distintas distribuições de probabilidade)\n",
    "\n",
    "### Attributes\n",
    "> Os ndarrays também som objetos, e tem atributos como `shape`, `size`, `ndim`, `dtype`..."
   ]
  },
  {
   "cell_type": "code",
   "execution_count": null,
   "metadata": {},
   "outputs": [],
   "source": [
    "mylis = [[[1, 5, 3], [2, 4, 1]], [[34, 4, 2], [3, 7, 0]]]\n",
    "x = np.array(mylis)\n",
    "print(x)\n",
    "print('Atributos de x: ', x.dtype, x.shape, x.size, x.ndim)\n"
   ]
  },
  {
   "cell_type": "code",
   "execution_count": null,
   "metadata": {},
   "outputs": [],
   "source": [
    "y = np.zeros((4, 6))\n",
    "print(y)\n",
    "z = np.ones(3)\n",
    "print(z)\n",
    "doido = np.random.normal(0,1,15)   # aleatorios com distribuição normal\n",
    "print(doido.shape, doido)"
   ]
  },
  {
   "cell_type": "code",
   "execution_count": null,
   "metadata": {},
   "outputs": [],
   "source": [
    "x = np.arange(-10, 10)    # como o range, mas cria um ndarray em vez duma lista\n",
    "print(x)"
   ]
  },
  {
   "cell_type": "markdown",
   "metadata": {},
   "source": [
    "### Concatenating and splitting ndarrays\n",
    "> - numpy.concatenate(), numpy.stack()\n",
    "- numpy.split()"
   ]
  },
  {
   "cell_type": "code",
   "execution_count": null,
   "metadata": {},
   "outputs": [],
   "source": [
    "a = np.ones((4, 4))\n",
    "b = np.arange(16).reshape((4, 4))\n",
    "c = np.concatenate((a, b))\n",
    "print(c)\n",
    "print(c.shape)"
   ]
  },
  {
   "cell_type": "code",
   "execution_count": null,
   "metadata": {},
   "outputs": [],
   "source": [
    "c = np.concatenate((a, b), axis=1)    # pode especificar em qual dimensão fazer a concatenação\n",
    "#c = np.stack((a, b), axis=2)\n",
    "print(c.shape, c, sep='\\n')"
   ]
  },
  {
   "cell_type": "markdown",
   "metadata": {},
   "source": [
    "## Universal Functions (ufuncs)\n",
    "> Métodos e funções que operam eficientemente em todos os elementos dum ndarray ao mesmo tempo (roubado do Matlab?)"
   ]
  },
  {
   "cell_type": "code",
   "execution_count": null,
   "metadata": {},
   "outputs": [],
   "source": [
    "x = np.arange(0,20).reshape(5,4)   # reshape muda o shape do array (as dimensões tem que bater)\n",
    "print(x)\n",
    "\n",
    "# Tem as operações aritméticas como ufuncs\n",
    "print(-x)\n",
    "print(x+10)\n",
    "print(x**2)\n",
    "print(x+x)  # soma elemento por elemento"
   ]
  },
  {
   "cell_type": "code",
   "execution_count": null,
   "metadata": {},
   "outputs": [],
   "source": [
    "# Outras funções matemáticas\n",
    "x = np.linspace(0,4*math.pi,100)\n",
    "y = np.sin(x)    # ufunc\n",
    "plt.plot(x,y)"
   ]
  },
  {
   "cell_type": "code",
   "execution_count": null,
   "metadata": {},
   "outputs": [],
   "source": [
    "x = np.ones((3,3))\n",
    "y = x*4\n",
    "z = x+y\n",
    "print(x.shape, y.shape, z.shape)\n",
    "\n"
   ]
  },
  {
   "attachments": {
    "image.png": {
     "image/png": "[encoded data removed]"
    }
   },
   "cell_type": "markdown",
   "metadata": {},
   "source": [
    "### Broadcasting\n",
    "> Usando ufuncs em arrays com tamanho diferente\n",
    "![image.png](attachment:image.png)\n",
    "Ver regras em: https://jakevdp.github.io/PythonDataScienceHandbook/02.05-computation-on-arrays-broadcasting.html"
   ]
  },
  {
   "cell_type": "code",
   "execution_count": null,
   "metadata": {},
   "outputs": [],
   "source": [
    "a = np.arange(5)\n",
    "print(a)\n",
    "print(a - 5)    # propagando a subtração do escalar no array a"
   ]
  },
  {
   "cell_type": "code",
   "execution_count": null,
   "metadata": {},
   "outputs": [],
   "source": [
    "a = np.ones((4,4))\n",
    "print(a * np.array([1, 2, 3, 4]))   # propagando o produto do array menor no array maior"
   ]
  },
  {
   "cell_type": "markdown",
   "metadata": {},
   "source": [
    "## Indexando\n",
    "> Selecionando partes de ndarrays<br>\n",
    "Como nos `list`, podemos mudar o conteúdo de elementos dum `ndarray` pois são mutáveis "
   ]
  },
  {
   "cell_type": "markdown",
   "metadata": {},
   "source": [
    "### Selecionando um único elemento (*indexing*)"
   ]
  },
  {
   "cell_type": "code",
   "execution_count": null,
   "metadata": {},
   "outputs": [],
   "source": [
    "np.random.seed(0)\n",
    "x = np.random.randint(0, 10, (5, 10))\n",
    "print(x)\n",
    "\n",
    "#print(x[0,2])\n",
    "#x[0,2] = -2\n",
    "#print(x)\n",
    "\n",
    "xa = x[1,3]   # accesar um elemento único (indexing) cria uma copia com o valor do elemento\n",
    "print(type(xa), xa)\n",
    "\n",
    "xa = -9\n",
    "print(x)      # portanto mudar o valor dela não muda o array original\n"
   ]
  },
  {
   "cell_type": "markdown",
   "metadata": {},
   "source": [
    "### Selecionando pedaços (*slicing*)\n",
    "> Selecionar hiperretangulos (slicing) gera *views* do array original, o que é útil para não duplicar dados na memória. Os outros jeitos de indexar geram copias.<br>\n",
    "https://www.jessicayung.com/numpy-views-vs-copies-avoiding-costly-mistakes/"
   ]
  },
  {
   "cell_type": "code",
   "execution_count": null,
   "metadata": {},
   "outputs": [],
   "source": [
    "np.random.seed(0)\n",
    "x = np.random.randint(0, 10, (10, 5))\n",
    "print(x)\n",
    "\n",
    "#print(x[::2,:])\n",
    "\n",
    "xa = x[0:3,:]\n",
    "#xa = x[0:3,:].copy()    # para fazer copia em vez de view\n",
    "#print(type(xa), xa)\n",
    "\n",
    "# Slicing não copia o array, faz um 'view' ao array original\n",
    "# Portanto mudar os valores do slice muda os do original\n",
    "xa[0,0] = 666\n",
    "print(x)\n",
    "\n",
    "xa *= -1\n",
    "print(x)\n",
    "\n",
    "# Mas escrito deste outro jeito cria uma copia!\n",
    "xa = -xa\n",
    "#xa = np.ones((2,5))\n",
    "print(xa)\n",
    "print(x)\n"
   ]
  },
  {
   "cell_type": "markdown",
   "metadata": {},
   "source": [
    "### Selecionando elementos por lógicas (*boolean masks*)\n",
    "> Podemos detectar quais elementos dum array satisfazem alguma condição... <br>\n",
    "... e ficar só com aqueles elementos (*boolean mask*)\n",
    "\n",
    "Nota: `and` and `or` perform a single Boolean evaluation on an entire object, while `&` and `|` perform multiple Boolean evaluations on the content (the individual bits or bytes) of an object. For Boolean NumPy arrays, the latter is nearly always the desired operation."
   ]
  },
  {
   "cell_type": "code",
   "execution_count": null,
   "metadata": {},
   "outputs": [],
   "source": [
    "x = np.random.randint(-20,20,(5,5))\n",
    "xs = x > 0   # aqui o > está funcionando como ufunc \n",
    "print(x, xs, sep = '\\n')\n",
    "\n",
    "xm = x[xs]   # aqui tô usando uma máscara lógica para selecionar elementos\n",
    "print(np.sum(xs), xm)"
   ]
  },
  {
   "cell_type": "code",
   "execution_count": null,
   "metadata": {},
   "outputs": [],
   "source": [
    "print(x)\n",
    "print(x[(x > 0) & (x < 10)])    # Para fazer operações lógicas como ufunc tem que usar &,| e agrupar com ()\n",
    "\n",
    "print(x[(x > 0) and (x < 10)])    # and, or não funciona"
   ]
  },
  {
   "cell_type": "markdown",
   "metadata": {},
   "source": [
    "### Selecionando elementos de jeitos doidos (*fancy indexing*)"
   ]
  },
  {
   "cell_type": "markdown",
   "metadata": {},
   "source": [
    "### Importando dados como ndarray\n",
    "> - `genfromtxt`"
   ]
  },
  {
   "cell_type": "markdown",
   "metadata": {},
   "source": [
    "## O que tem a mais no NumPy?\n",
    "> - Algebra linear (https://numpy.org/devdocs/reference/routines.linalg.html)\n",
    "- Fourier (https://numpy.org/devdocs/reference/routines.fft.html)\n",
    "- Estatística descritiva (https://numpy.org/devdocs/reference/routines.statistics.html)"
   ]
  }
 ],
 "metadata": {
  "kernelspec": {
   "display_name": "Python 3",
   "language": "python",
   "name": "python3"
  },
  "language_info": {
   "codemirror_mode": {
    "name": "ipython",
    "version": 3
   },
   "file_extension": ".py",
   "mimetype": "text/x-python",
   "name": "python",
   "nbconvert_exporter": "python",
   "pygments_lexer": "ipython3",
   "version": "3.7.3"
  }
 },
 "nbformat": 4,
 "nbformat_minor": 2
}
