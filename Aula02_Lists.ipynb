{
 "cells": [
  {
   "cell_type": "markdown",
   "metadata": {},
   "source": [
    "# Lists\n",
    "> Uma coleção ordenada de elementos\n",
    "- Definida por []\n",
    "- Mutável\n",
    "- Atenção ao \"shallow\" vs \"deep\" copy (https://www.python-course.eu/deep_copy.php; http://henry.precheur.org/python/copy_list.html)"
   ]
  },
  {
   "cell_type": "markdown",
   "metadata": {},
   "source": [
    "## Construindo listas"
   ]
  },
  {
   "cell_type": "code",
   "execution_count": 1,
   "metadata": {},
   "outputs": [
    {
     "name": "stdout",
     "output_type": "stream",
     "text": [
      "<class 'list'>\n",
      "<class 'str'>\n",
      "<class 'str'> <class 'list'>\n"
     ]
    }
   ],
   "source": [
    "l1 = [1, 6, 0, 20]  # construindo com colchetes e vírgulas\n",
    "print(type(l1))\n",
    "\n",
    "l2 = []             # uma lista vazia\n",
    "l3 = ['SARS', 'H1N1', 'Covid19']   # as listas podem ter outros data types dentro\n",
    "l4 = ['Hola', 33, 0.678]    # e até misturar data types! (tipo os cell arrays do matlab)\n",
    "print(type(l4[0]))\n",
    "\n",
    "texto = 'Viva Peron!'\n",
    "l5 = list(texto)    # a função list() permite criar listas a partir de outras coleções, neste caso um string\n",
    "print(type(texto), type(l5))\n",
    "\n",
    "# Existem também innumeras funções que devolvem listas como resultados"
   ]
  },
  {
   "cell_type": "markdown",
   "metadata": {},
   "source": [
    "## Indexing and slicing lists\n",
    ">Similar a indexar em strings<br>\n",
    "https://railsware.com/blog/python-for-machine-learning-indexing-and-slicing-for-lists-tuples-strings-and-other-sequential-types/"
   ]
  },
  {
   "cell_type": "code",
   "execution_count": 22,
   "metadata": {},
   "outputs": [
    {
     "name": "stdout",
     "output_type": "stream",
     "text": [
      "1 <class 'int'>\n",
      "[1, 6] <class 'list'>\n",
      "['!', 'n', 'o', 'r', 'e', 'P', ' ', 'a', 'v', 'i', 'V']\n"
     ]
    }
   ],
   "source": [
    "x = l1[0]    # acessar um único elemento devolve o CONTEUDO do elemento\n",
    "print(x, type(x))\n",
    "\n",
    "y = l1[0:2]  # acessar um 'slice' (fatia) de uma lista devolve uma LISTA\n",
    "print(y, type(y))\n",
    "\n",
    "print(l5[::-1])   # a sintaxe dos índices é a mesma que para strings"
   ]
  },
  {
   "cell_type": "markdown",
   "metadata": {},
   "source": [
    "## Modificando listas\n",
    "> - As listas são mutáveis, ou seja, pode mudar parte do seu conteúdo<br>\n",
    "- Existem vários MÉTODOS dos objetos de tipo list que modificam ela (https://docs.python.org/3/tutorial/datastructures.html)\n",
    "- Notar que os métodos modificam a própria lista!"
   ]
  },
  {
   "cell_type": "code",
   "execution_count": 2,
   "metadata": {},
   "outputs": [
    {
     "name": "stdout",
     "output_type": "stream",
     "text": [
      "[5, 4, 2, -2, 666]\n",
      "[5, 4, 2, -2, 666, 'hola']\n",
      "[5, 4, 2, -2, 666]\n",
      "[5, 2, -2, 666]\n",
      "[5, 2, -2, 666, 5, 2, -2, 666]\n",
      "[5, 2, -2, 666, 5, 2, -2, 666, 5, 2, -2, 666]\n"
     ]
    }
   ],
   "source": [
    "l6 = [5, 4, 2, -2, 44]\n",
    "l6[-1] = 666    # mudando o conteúdo de um elemento\n",
    "print(l6)\n",
    "\n",
    "# \n",
    "l6.append('hola')    # adicionar elementos ao final\n",
    "print(l6)\n",
    "\n",
    "l6.pop()     # eliminar o último elemento\n",
    "print(l6)\n",
    "\n",
    "l6.pop(1)    # eliminar o elemento na posição 1\n",
    "print(l6)\n",
    "\n",
    "# Concatenando listas\n",
    "print(l6 + l6)\n",
    "print(l6*3)   # notem que isso não mupltiplica os valores dos elementos!"
   ]
  },
  {
   "cell_type": "markdown",
   "metadata": {},
   "source": [
    "## PERIGO! Shallow vs deep copy"
   ]
  },
  {
   "cell_type": "code",
   "execution_count": 3,
   "metadata": {},
   "outputs": [
    {
     "name": "stdout",
     "output_type": "stream",
     "text": [
      "[23, 29, 90, 30, 12] [23, 29, 90, 30, 12]\n",
      "[23, 29, 90, 666, 12] [23, 29, 90, 666, 12]\n",
      "140434947793928 140434947793928\n"
     ]
    }
   ],
   "source": [
    "l7 = [23, 29, 90, 30, 12]\n",
    "l8 = l7\n",
    "print(l7, l8)\n",
    "l7[-2] = 666\n",
    "print(l7, l8)    # l7 faz referencia à MESMA lista que l8!\n",
    "\n",
    "print(id(l7), id(l8))    # a função id revela o identificador interno do objeto ao qual a variável faz referencia (nesse caso o mesmo!)\n",
    "\n",
    "# FALTA SLICE E COPY"
   ]
  }
 ],
 "metadata": {
  "kernelspec": {
   "display_name": "Python 3",
   "language": "python",
   "name": "python3"
  },
  "language_info": {
   "codemirror_mode": {
    "name": "ipython",
    "version": 3
   },
   "file_extension": ".py",
   "mimetype": "text/x-python",
   "name": "python",
   "nbconvert_exporter": "python",
   "pygments_lexer": "ipython3",
   "version": "3.7.3"
  },
  "varInspector": {
   "cols": {
    "lenName": 16,
    "lenType": 16,
    "lenVar": 40
   },
   "kernels_config": {
    "python": {
     "delete_cmd_postfix": "",
     "delete_cmd_prefix": "del ",
     "library": "var_list.py",
     "varRefreshCmd": "print(var_dic_list())"
    },
    "r": {
     "delete_cmd_postfix": ") ",
     "delete_cmd_prefix": "rm(",
     "library": "var_list.r",
     "varRefreshCmd": "cat(var_dic_list()) "
    }
   },
   "types_to_exclude": [
    "module",
    "function",
    "builtin_function_or_method",
    "instance",
    "_Feature"
   ],
   "window_display": false
  }
 },
 "nbformat": 4,
 "nbformat_minor": 2
}
