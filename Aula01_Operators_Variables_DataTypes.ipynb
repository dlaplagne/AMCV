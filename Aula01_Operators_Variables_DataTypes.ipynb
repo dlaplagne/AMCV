{
 "cells": [
  {
   "cell_type": "code",
   "execution_count": null,
   "metadata": {},
   "outputs": [],
   "source": [
    "# Para mostrar os outputs de todas as operações\n",
    "from IPython.core.interactiveshell import InteractiveShell\n",
    "InteractiveShell.ast_node_interactivity = \"all\"  # last_expr"
   ]
  },
  {
   "cell_type": "markdown",
   "metadata": {},
   "source": [
    "# Python basics\n",
    "> - Um tutorial informal ao Python básico<br>\n",
    "https://docs.python.org/3/tutorial/introduction.html"
   ]
  },
  {
   "cell_type": "markdown",
   "metadata": {},
   "source": [
    "## Usando as celdas (cells) do Jupyter Notebook\n",
    ">h, b, a, m, y, dd, enter, esc, ctrl+enter\n",
    "- Markdown help: https://www.ibm.com/support/knowledgecenter/en/SSGNPV_1.1.3/dsx/markd-jupyter.html\n",
    "- https://readwrite.com/2012/04/17/why-you-need-to-learn-markdown/"
   ]
  },
  {
   "cell_type": "markdown",
   "metadata": {},
   "source": [
    "## Operações simples"
   ]
  },
  {
   "cell_type": "markdown",
   "metadata": {},
   "source": [
    "### Numeric operators\n",
    "- https://www.w3schools.com/python/python_operators.asp "
   ]
  },
  {
   "cell_type": "code",
   "execution_count": null,
   "metadata": {},
   "outputs": [],
   "source": [
    "2+2\n",
    "2-2\n",
    "3*8\n",
    "100/4\n",
    "3**2  # potencia (isto é um comment)\n",
    "17 % 10  # modulo\n",
    "43 // 4  # \"floor division\"\n"
   ]
  },
  {
   "cell_type": "markdown",
   "metadata": {},
   "source": [
    "## Variables\n",
    "Lugares para guardar valores na memoria.\n",
    "Existem diferentes \"tipos\" de variáveis (data types)"
   ]
  },
  {
   "cell_type": "markdown",
   "metadata": {},
   "source": [
    "### Numeric data types\n",
    ">- `int`eger\n",
    "- `float`\n",
    "- `complex`\n",
    "\n",
    "- https://www.w3schools.com/python/python_numbers.asp"
   ]
  },
  {
   "cell_type": "code",
   "execution_count": null,
   "metadata": {},
   "outputs": [],
   "source": [
    "x = 3\n",
    "juancarlos = 4\n",
    "x*juancarlos\n",
    "xj = x+juancarlos\n",
    "xj\n",
    "\n",
    "type(x)   # 'type' é uma função (function)\n",
    "\n",
    "y = 3.46\n",
    "type(y)\n",
    "\n",
    "z = 2.1+8j\n",
    "type(z)\n",
    "\n",
    "xx = x * y\n",
    "x*y\n",
    "type(xx)"
   ]
  },
  {
   "cell_type": "code",
   "execution_count": null,
   "metadata": {},
   "outputs": [],
   "source": [
    "# Operating and assigning at the same time\n",
    "a = 3\n",
    "b = 2.5\n",
    "print(a, b)\n",
    "\n",
    "a *= b\n",
    "print(a, b)\n",
    "b **= 3\n",
    "print(b)\n",
    "\n",
    "# funciona para os outros operadores também\n",
    "\n",
    "a = 1\n",
    "a += 1\n",
    "a += 1\n",
    "a += 1\n",
    "print(a)"
   ]
  },
  {
   "cell_type": "markdown",
   "metadata": {},
   "source": [
    "### O tipo de variável pode ser escolhido por Python dinámicamente...\n",
    "> O que vocês mais vão fazer"
   ]
  },
  {
   "cell_type": "code",
   "execution_count": null,
   "metadata": {},
   "outputs": [],
   "source": [
    "a = 1\n",
    "type(a)"
   ]
  },
  {
   "cell_type": "markdown",
   "metadata": {},
   "source": [
    "### Ou pode ser forzado pelo usuário (type casting)\n",
    ">Forzar o tipo de dados de uma variável se precisar por algúm motivo"
   ]
  },
  {
   "cell_type": "code",
   "execution_count": null,
   "metadata": {},
   "outputs": [],
   "source": [
    "x = int(3.99)\n",
    "print(x, type(x))\n",
    "y = float(-3)\n",
    "print(y, type(y))"
   ]
  },
  {
   "cell_type": "markdown",
   "metadata": {},
   "source": [
    "### Strings\n",
    "> Variáveis com texto dentro\n",
    "- https://www.w3schools.com/python/python_strings.asp"
   ]
  },
  {
   "cell_type": "code",
   "execution_count": null,
   "metadata": {},
   "outputs": [],
   "source": [
    "msg = \"Adiós, Mundo cruel!\"\n",
    "\n",
    "type(msg)\n",
    "print(msg)\n",
    "\n",
    "# Multi-line strings\n",
    "poema = \"\"\"Yo te quiero River Plate, \n",
    "a vos te sigo\n",
    "vos sos mi vida\"\"\"\n",
    "\n",
    "print(poema)"
   ]
  },
  {
   "cell_type": "markdown",
   "metadata": {},
   "source": [
    "> Strings as arrays of characters\n",
    "![image.png](attachment:image.png)"
   ]
  },
  {
   "cell_type": "code",
   "execution_count": null,
   "metadata": {},
   "outputs": [],
   "source": [
    "# Os strings são arranjos ordenados de caracteres, pode pegar partes deles (indexing).\n",
    "print(msg)\n",
    "print(msg[0])   # importantissimo: a enumeração de elementos no python sempre começa pelo 0\n",
    "print(msg[1])\n",
    "print(msg)\n",
    "\n",
    "poemita = poema[13:24]   # 13, 14, 15, ..., 24\n",
    "print(poemita)\n",
    "\n",
    "print(poema[13:24:2])   # 13, 15, 17, ...\n",
    "print(poema[23:12:-1])   # 23, 22, 21, ...\n",
    "\n",
    "#print(msg[16:19])\n",
    "print(msg[-3:])   # Do 3 pro fim até o fim\n",
    "\n",
    "poemitote = poemita + \" no pierde ni para \" + poemita + \"!\"   # Concatenação de strings\n",
    "print(poemitote)\n"
   ]
  },
  {
   "cell_type": "code",
   "execution_count": null,
   "metadata": {},
   "outputs": [],
   "source": [
    "# Strings are immutable!\n",
    "msg[:5] = 'Hola '"
   ]
  },
  {
   "cell_type": "code",
   "execution_count": null,
   "metadata": {},
   "outputs": [],
   "source": [
    "# String Functions and Methods\n",
    "len(msg)   # len() é uma função que 'devolve' a longitude do string na saida\n",
    "texto = \"El string msg tiene \" + str(len(msg)) + \" caracteres\"\n",
    "print(texto)\n",
    "\n",
    "print(poemita.upper())   # upper() é um método (method) dos objetos (object) de tipo str\n",
    "\n",
    "# Avançado: usar o método .format() para incluir números em strings de maneira super versátil e controlada"
   ]
  }
 ],
 "metadata": {
  "kernelspec": {
   "display_name": "Python 3",
   "language": "python",
   "name": "python3"
  },
  "language_info": {
   "codemirror_mode": {
    "name": "ipython",
    "version": 3
   },
   "file_extension": ".py",
   "mimetype": "text/x-python",
   "name": "python",
   "nbconvert_exporter": "python",
   "pygments_lexer": "ipython3",
   "version": "3.7.9"
  },
  "varInspector": {
   "cols": {
    "lenName": 16,
    "lenType": 16,
    "lenVar": 40
   },
   "kernels_config": {
    "python": {
     "delete_cmd_postfix": "",
     "delete_cmd_prefix": "del ",
     "library": "var_list.py",
     "varRefreshCmd": "print(var_dic_list())"
    },
    "r": {
     "delete_cmd_postfix": ") ",
     "delete_cmd_prefix": "rm(",
     "library": "var_list.r",
     "varRefreshCmd": "cat(var_dic_list()) "
    }
   },
   "types_to_exclude": [
    "module",
    "function",
    "builtin_function_or_method",
    "instance",
    "_Feature"
   ],
   "window_display": false
  }
 },
 "nbformat": 4,
 "nbformat_minor": 4
}
