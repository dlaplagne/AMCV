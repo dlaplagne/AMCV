{
 "cells": [
  {
   "cell_type": "markdown",
   "metadata": {},
   "source": [
    "# Control flow 2: Iterando\n",
    "> Repetir um conjunto de instruções um número de vezes, talvez mudando alguma coisa\n",
    "\n",
    "- https://www.bbc.co.uk/bitesize/guides/z3khpv4/revision/1"
   ]
  },
  {
   "cell_type": "markdown",
   "metadata": {},
   "source": [
    "## `for` _var_ `in` _iterable_ :\n",
    "> Executar o código para cada elemento de uma coleção<BR>\n",
    "No Python a **indentação** faz parte fundamental da sintaxe"
   ]
  },
  {
   "cell_type": "code",
   "execution_count": 24,
   "metadata": {},
   "outputs": [
    {
     "name": "stdout",
     "output_type": "stream",
     "text": [
      "[2.0, 3.0, 'zero']\n"
     ]
    }
   ],
   "source": [
    "lis = [4, -1, 9, 0, 2]\n",
    "lis2 = []\n",
    "\n",
    "for x in lis:\n",
    "    if x > 0:\n",
    "        lis2.append( x**0.5 )\n",
    "    elif x == 0:\n",
    "        lis2.append( 'zero' )\n",
    "        break  # termina a execução do for\n",
    "    else:\n",
    "        continue   # pula esse ciclo\n",
    "    \n",
    "print(lis2)   # não indentado, por tanto fora do for\n"
   ]
  },
  {
   "cell_type": "markdown",
   "metadata": {},
   "source": [
    "## `while` _condition_ :\n",
    "> Continuar iterando enquanto a condição seja verdadeira\n",
    "<br>Também aceita `continue` e `break`\n",
    "<br>Pode levar um `else` doido no final (o `for` também pode)"
   ]
  },
  {
   "cell_type": "code",
   "execution_count": 33,
   "metadata": {},
   "outputs": [
    {
     "name": "stdout",
     "output_type": "stream",
     "text": [
      "9\n",
      "81\n",
      "6561\n",
      "43046721\n",
      "x tá gordo demais\n"
     ]
    }
   ],
   "source": [
    "x = 3\n",
    "while x < 1e6:\n",
    "    x **= 2\n",
    "    print(x)\n",
    "    if x == 16:\n",
    "        break\n",
    "else:     # Esse 'else' final só conheço no Python\n",
    "    print('x tá gordo demais')   # isso é executado só se o while terminou sem um break"
   ]
  },
  {
   "cell_type": "markdown",
   "metadata": {},
   "source": [
    "## Iterable objects\n",
    "> Algo bacana no python que não vi em outras linguagens: existem vários tipos de objetos que são **'iteráveis'** e todos podem ser usados do mesmo jeito.\n",
    "<br>_An iterable is an object capable of returning its members one by one. Said in other words, an iterable is anything that you can loop over with a for loop in Python._\n",
    "\n",
    "- Criando os próprios objetos iteráveis: https://www.w3schools.com/python/python_iterators.asp\n",
    "- Mais discussão sobre iteradores https://towardsdatascience.com/python-basics-iteration-and-looping-6ca63b30835c"
   ]
  },
  {
   "cell_type": "code",
   "execution_count": 8,
   "metadata": {},
   "outputs": [
    {
     "name": "stdout",
     "output_type": "stream",
     "text": [
      "1\n",
      "4\n",
      "-1\n"
     ]
    }
   ],
   "source": [
    "# Todas as coleções são iteráveis\n",
    "\n",
    "# List\n",
    "for a in [1, 4, -1]:\n",
    "    print(a)"
   ]
  },
  {
   "cell_type": "code",
   "execution_count": 9,
   "metadata": {},
   "outputs": [
    {
     "name": "stdout",
     "output_type": "stream",
     "text": [
      "1\n",
      "2\n",
      "5\n",
      "-3\n"
     ]
    }
   ],
   "source": [
    "# Tuple (como se fosse uma list, mas imutável)\n",
    "for x in (1, 2, 5, -3):\n",
    "    print(x)"
   ]
  },
  {
   "cell_type": "code",
   "execution_count": 14,
   "metadata": {},
   "outputs": [
    {
     "name": "stdout",
     "output_type": "stream",
     "text": [
      "Globo é o maior time do RN!\n",
      "ABC é o maior time do RN!\n",
      "America é o maior time do RN!\n"
     ]
    }
   ],
   "source": [
    "# Sets (um conjunto de elementos não ordenado)\n",
    "for el in {'ABC', 'America', 'Globo'}:\n",
    "    print(el + ' é o maior time do RN!')"
   ]
  },
  {
   "cell_type": "code",
   "execution_count": 35,
   "metadata": {},
   "outputs": [
    {
     "name": "stdout",
     "output_type": "stream",
     "text": [
      "3\n",
      "5\n",
      "7\n",
      "9\n",
      "11\n",
      "13\n"
     ]
    }
   ],
   "source": [
    "# Un rango de valores\n",
    "for i in range(3, 15, 2):\n",
    "    print(i)"
   ]
  },
  {
   "cell_type": "markdown",
   "metadata": {},
   "source": [
    "## `enumerate`\n",
    "> AMAMOS o enumerate"
   ]
  },
  {
   "cell_type": "code",
   "execution_count": 40,
   "metadata": {},
   "outputs": [
    {
     "name": "stdout",
     "output_type": "stream",
     "text": [
      "0 M2\n",
      "1 M5\n",
      "2 M6\n",
      "3 M9\n"
     ]
    }
   ],
   "source": [
    "ratas = ['M2', 'M5', 'M6', 'M9']\n",
    "resultado = []\n",
    "\n",
    "# assim eu faço em Matlab:\n",
    "for ri in range(len(ratas)):\n",
    "    rata = ratas[ri]\n",
    "    print(ri, rata)\n",
    "    # aqui algo para carregar dados da rata com esse nome\n",
    "    # aqui alguma análise desses dados para por na posição ri de resultado"
   ]
  },
  {
   "cell_type": "code",
   "execution_count": 39,
   "metadata": {},
   "outputs": [
    {
     "name": "stdout",
     "output_type": "stream",
     "text": [
      "0 M2\n",
      "1 M5\n",
      "2 M6\n",
      "3 M9\n"
     ]
    }
   ],
   "source": [
    "# assim eu faço no Python (MUITO MAIS BONITO!):\n",
    "for ri, rata in enumerate(ratas):\n",
    "    print(ri, rata)\n",
    "    # blah, blah"
   ]
  },
  {
   "cell_type": "markdown",
   "metadata": {},
   "source": [
    "## Generators\n",
    ">Iteráveis que vão gerando os elementos de um em um, só quando a gente pedir (permite otimizar muito o uso de memória)\n",
    "\n",
    "- https://realpython.com/introduction-to-python-generators/"
   ]
  }
 ],
 "metadata": {
  "kernelspec": {
   "display_name": "Python 3",
   "language": "python",
   "name": "python3"
  },
  "language_info": {
   "codemirror_mode": {
    "name": "ipython",
    "version": 3
   },
   "file_extension": ".py",
   "mimetype": "text/x-python",
   "name": "python",
   "nbconvert_exporter": "python",
   "pygments_lexer": "ipython3",
   "version": "3.7.3"
  }
 },
 "nbformat": 4,
 "nbformat_minor": 2
}
