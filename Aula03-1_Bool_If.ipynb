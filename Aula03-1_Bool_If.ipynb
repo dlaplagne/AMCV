{
 "cells": [
  {
   "cell_type": "markdown",
   "metadata": {},
   "source": [
    "# Verdadeiro ou falso?"
   ]
  },
  {
   "cell_type": "markdown",
   "metadata": {},
   "source": [
    "## `bool` data type (valores lógicos)\n",
    ">As variáveis de tipo `bool` podem ter só dois valores: `True` ou `False` "
   ]
  },
  {
   "cell_type": "code",
   "execution_count": 1,
   "metadata": {},
   "outputs": [
    {
     "data": {
      "text/plain": [
       "bool"
      ]
     },
     "execution_count": 1,
     "metadata": {},
     "output_type": "execute_result"
    }
   ],
   "source": [
    "x = True\n",
    "y = False\n",
    "type(x)"
   ]
  },
  {
   "cell_type": "markdown",
   "metadata": {},
   "source": [
    "## Comparision operators\n",
    ">As comparações devolvem verdadeiro ou falso<br>\n",
    "- `==` igual\n",
    "- `!=` diferente\n",
    "- `<` &nbsp; menor\n",
    "- `<=` menor ou igual\n",
    "- `>` &nbsp; maior\n",
    "- `>=` maior ou igual"
   ]
  },
  {
   "cell_type": "code",
   "execution_count": 2,
   "metadata": {},
   "outputs": [
    {
     "name": "stdout",
     "output_type": "stream",
     "text": [
      "Es el valor de a igual al de b?  False\n",
      "Es el valor de a diferente al de b?  True\n",
      "Es el valor de a menor al de b?  True\n",
      "El tipo de dados de x es  <class 'bool'>\n"
     ]
    }
   ],
   "source": [
    "a = 3\n",
    "b = 14\n",
    "print('Es el valor de a igual al de b? ', a==b)\n",
    "print('Es el valor de a diferente al de b? ', a!=b)\n",
    "print('Es el valor de a menor al de b? ', a<b)\n",
    "\n",
    "x = a < b\n",
    "print('El tipo de dados de x es ', type(x))"
   ]
  },
  {
   "cell_type": "markdown",
   "metadata": {},
   "source": [
    "## Logical operators\n",
    "> Operam sobre valores lógicos (`bool`) e devolvem valores lógicos\n",
    "- `not` negação\n",
    "- `and` e (intersecção)\n",
    "- `or` ou (união)"
   ]
  },
  {
   "cell_type": "code",
   "execution_count": 4,
   "metadata": {},
   "outputs": [
    {
     "name": "stdout",
     "output_type": "stream",
     "text": [
      "False True\n",
      "True False False\n",
      "True True False\n",
      "b é maior que a e menor que c? True\n"
     ]
    }
   ],
   "source": [
    "print(not True, not False)\n",
    "print(True and True, True and False, False and False)\n",
    "print(True or True, True or False, False or False)\n",
    "\n",
    "a = 2\n",
    "b = 5\n",
    "c = 7\n",
    "\n",
    "print('b é maior que a e menor que c?', b > a and b < c)"
   ]
  },
  {
   "cell_type": "markdown",
   "metadata": {},
   "source": [
    "# Chaining operators\n",
    ">Assim como nos aritméticos (+, -, *, ...), existem regras de precedencia para os operadores lógicos. <BR>\n",
    "A ordem é 1o `not`, 2o `and` e por último `or`\n",
    "\n",
    "https://www.geeksforgeeks.org/chaining-comparison-operators-python/"
   ]
  },
  {
   "cell_type": "code",
   "execution_count": 34,
   "metadata": {},
   "outputs": [
    {
     "name": "stdout",
     "output_type": "stream",
     "text": [
      "True\n",
      "True\n",
      "False\n"
     ]
    }
   ],
   "source": [
    "print(False and False or True)  # primeiro faz o and\n",
    "print((False and False) or True)\n",
    "print(False and (False or True))"
   ]
  },
  {
   "cell_type": "code",
   "execution_count": 31,
   "metadata": {},
   "outputs": [
    {
     "name": "stdout",
     "output_type": "stream",
     "text": [
      "False\n",
      "True\n"
     ]
    }
   ],
   "source": [
    "print(not True or False)   # primeiro faz o 'not'\n",
    "print(not (False or False))"
   ]
  },
  {
   "cell_type": "markdown",
   "metadata": {},
   "source": [
    ">As comparações podem também se encadear.<br>Vão ser conferidas uma por uma comezando da esquerda e será verdadeiro só se todas elas forem."
   ]
  },
  {
   "cell_type": "code",
   "execution_count": 38,
   "metadata": {},
   "outputs": [
    {
     "name": "stdout",
     "output_type": "stream",
     "text": [
      "True True\n",
      "False False\n"
     ]
    }
   ],
   "source": [
    "print(2 < 4 > 3, 2 < 4 and 4 > 3)   # expressões equivalentes\n",
    "print(2 < 4 > 3 < 0, 2 < 4 and 4 > 3 and 3 < 0)  # expressões equivalentes\n"
   ]
  },
  {
   "cell_type": "markdown",
   "metadata": {},
   "source": [
    "# Control flow\n",
    ">Em vez de executar sempre uma linha de código após a outra, podemos controlar o 'fluxo' pelo código (decidir dinámicamente quais comandos são executados, repetir várias vezes os mesmos comandos, etc)"
   ]
  },
  {
   "cell_type": "markdown",
   "metadata": {},
   "source": [
    "## `IF`\n",
    "Executar uns comandos caso uma condição lógica seja verdadeira (e outros caso seja falsa). <br>\n",
    "Os `:` e a ***indentação*** são parte obrigatória da sintaxis do `if`\n",
    ">`if` condição`:`<br>\n",
    "&nbsp;&nbsp;&nbsp;&nbsp;&nbsp;&nbsp;&nbsp;&nbsp;comandos<br>\n",
    "`elif` outra condição`:`<br>\n",
    "&nbsp;&nbsp;&nbsp;&nbsp;&nbsp;&nbsp;&nbsp;&nbsp;outros comandos<br>\n",
    "`elif` outra condição`:`<br>\n",
    "&nbsp;&nbsp;&nbsp;&nbsp;&nbsp;&nbsp;&nbsp;&nbsp;outros comandos<br>\n",
    "...<br>\n",
    "`else`<br>\n",
    "&nbsp;&nbsp;&nbsp;&nbsp;&nbsp;&nbsp;&nbsp;&nbsp;mais comandos<br>"
   ]
  },
  {
   "cell_type": "code",
   "execution_count": 23,
   "metadata": {},
   "outputs": [
    {
     "name": "stdout",
     "output_type": "stream",
     "text": [
      "a contém algum outro tipo de número não complexo\n"
     ]
    }
   ],
   "source": [
    "a = -3\n",
    "if type(a) in {int, float}:\n",
    "    if a and a == abs(round(a)):\n",
    "        print('a contém um número natural')\n",
    "    elif not a:     # um número igual a zero é considerado False nesse contexto (ver truthy e falsy)\n",
    "        print('a é zero')\n",
    "    else:\n",
    "        print('a contém algum outro tipo de número não complexo')\n",
    "elif type(a) is complex:\n",
    "    print('a contém um número complexo')\n",
    "else:\n",
    "    print('eu tô achando que a não é um número')"
   ]
  },
  {
   "cell_type": "markdown",
   "metadata": {},
   "source": [
    "## True value testing (~advanced)\n",
    ">Variáveis que não são de tipo `bool` podem ser interpretadas como verdadeiras ou falsas também https://vegaskid.net/2018/02/truth-about-boolean-values-python/"
   ]
  }
 ],
 "metadata": {
  "kernelspec": {
   "display_name": "Python 3",
   "language": "python",
   "name": "python3"
  },
  "language_info": {
   "codemirror_mode": {
    "name": "ipython",
    "version": 3
   },
   "file_extension": ".py",
   "mimetype": "text/x-python",
   "name": "python",
   "nbconvert_exporter": "python",
   "pygments_lexer": "ipython3",
   "version": "3.7.3"
  }
 },
 "nbformat": 4,
 "nbformat_minor": 2
}
