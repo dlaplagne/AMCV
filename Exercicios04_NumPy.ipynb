{
 "cells": [
  {
   "cell_type": "markdown",
   "metadata": {},
   "source": [
    "## Desafio 4.1: Pesquise se trabalhar com Universal Functions é de fato mais eficiente do que fazer loops\n",
    "> 1. Crie uma lista com MUITOS elementos (tome o tempo que demora na lista ser criada e quanto ocupa na memória)\n",
    "2. Programe um loop para fazer alguma operação em cada um dos elementos (tome o tempo que demora em isso ser executado)\n",
    "3. Programe um código que faça as mesmas coisas usando ndarrays de NumPy e una Ufunc em vez do loop (compare o que isso demora com os tempos anteriores e quanto ocupa o ndarray na memória)\n",
    "\n",
    "> Precisa do comando mágico `%timeit`<br>\n",
    "**Cuidado!** O timeit repite o código várias vezes. Isso traz problema se seu código fica modificando a mesma variável<br>\n",
    "Se quiser usar operações matemáticas importe `math` e gerar números aleatórios fora do numpy importe `random`"
   ]
  },
  {
   "cell_type": "markdown",
   "metadata": {},
   "source": [
    "## Desafio 4.2: Edição de vídeo com NumPy\n",
    "As imagens 'ratas0001.png', 'ratas0002.png', ... contém frames de um vídeo de comportamento de ratos. As imagens são coloridas (RGB), portanto cada uma pode ser representada por um array de 3 dimensões, onde a terceira tem longitude 3."
   ]
  },
  {
   "cell_type": "code",
   "execution_count": 1,
   "metadata": {},
   "outputs": [],
   "source": [
    "import matplotlib.pyplot as plt\n",
    "import matplotlib.image as mpimg\n",
    "import numpy as np"
   ]
  },
  {
   "cell_type": "markdown",
   "metadata": {},
   "source": [
    "1. Carregue as imagens 10 a 19 em um ndarray de 4 dimensões. Para isso crie primeiro um ndarray de zeros (`np.zeros()`) com as dimensões finais esperadas (quais seriam?). Chame esse array de `video`. Programe logo um loop que carregue cada imagem (`mpimg.imread()`, `str.format()`) e coloque no lugar certo do `video`."
   ]
  },
  {
   "cell_type": "code",
   "execution_count": null,
   "metadata": {},
   "outputs": [],
   "source": [
    "# Quem tiver dificuldade em carregar as imagens pode carregar um array 'video' já pronto\n",
    "# video = np.load('video.npy')"
   ]
  },
  {
   "cell_type": "markdown",
   "metadata": {},
   "source": [
    "2. A partir do array `video`, crie um \"view\" chamado `videito` que inclúa só a parte do original onde aparecem os ratos."
   ]
  },
  {
   "cell_type": "code",
   "execution_count": null,
   "metadata": {},
   "outputs": [],
   "source": []
  },
  {
   "cell_type": "markdown",
   "metadata": {},
   "source": [
    "3. Crie um novo array chamado `videito_gray` com a versão em tons de cinza de `videito`. Cada frame da nova versão será a media das camadas R, G e B de cada frame original (`np.mean()`)."
   ]
  },
  {
   "cell_type": "code",
   "execution_count": null,
   "metadata": {},
   "outputs": [],
   "source": []
  },
  {
   "cell_type": "markdown",
   "metadata": {},
   "source": [
    "4. Copie o `videito_grey` para um novo nd array chamado `videito_claro` (`.copy()`). Multiplique todos os valores de videito_claro por 2 e, na sequencia, subtitua todos os valores maiores do que 1 pelo valor 1. Desse jeito você aumentou a luminosidade do vídeo.  "
   ]
  },
  {
   "cell_type": "code",
   "execution_count": null,
   "metadata": {},
   "outputs": [],
   "source": []
  },
  {
   "cell_type": "markdown",
   "metadata": {},
   "source": [
    "## Exercícios"
   ]
  },
  {
   "cell_type": "markdown",
   "metadata": {},
   "source": [
    "1. Dado o array `a = np.array([1,2,3,4,5,33])`, imprima apenas os valores maiores do que 3."
   ]
  },
  {
   "cell_type": "code",
   "execution_count": null,
   "metadata": {},
   "outputs": [],
   "source": []
  },
  {
   "cell_type": "markdown",
   "metadata": {},
   "source": [
    "2. Dado o array `b = np.array([0, 1, 2, 3, 4, 5, 6, 7, 8, 9])`, imprima apenas os números pares."
   ]
  },
  {
   "cell_type": "code",
   "execution_count": null,
   "metadata": {},
   "outputs": [],
   "source": []
  },
  {
   "cell_type": "markdown",
   "metadata": {},
   "source": [
    "3. Substitua todos os números ímpares do array b por 0."
   ]
  },
  {
   "cell_type": "code",
   "execution_count": null,
   "metadata": {},
   "outputs": [],
   "source": []
  },
  {
   "cell_type": "markdown",
   "metadata": {},
   "source": [
    "4. Dado o array 1D `c = np.arange(10)`, converta ele em um array 2D com 2 linhas (rows). Dica: checar método `numpy.reshape()`"
   ]
  },
  {
   "cell_type": "code",
   "execution_count": null,
   "metadata": {},
   "outputs": [],
   "source": []
  },
  {
   "cell_type": "markdown",
   "metadata": {},
   "source": [
    "5. Dados os seguintes arrays:\n",
    ">`d = np.arange(10).reshape(2,-1) \n",
    " e = np.repeat(1, 10).reshape(2,-1)`\n",
    "\n",
    "Empilhe os arrays \"d\" e \"e\" verticalmente. Em seguida, horizontalmente. Dica: checar método `numpy.concatenate()`"
   ]
  },
  {
   "cell_type": "code",
   "execution_count": null,
   "metadata": {},
   "outputs": [],
   "source": []
  },
  {
   "cell_type": "markdown",
   "metadata": {},
   "source": [
    "6. Dado o array `f = np.array([2, 6, 1, 9, 10, 3, 27])`, retorne todos os valores entre 5 e 10. Dica: checar método `numpy.where()`"
   ]
  },
  {
   "cell_type": "code",
   "execution_count": null,
   "metadata": {},
   "outputs": [],
   "source": []
  },
  {
   "cell_type": "markdown",
   "metadata": {},
   "source": [
    "7. Em 2007, a população dos seguintes países apresentava essas porcentagem de empregabilidade, respectivamente:\n",
    "\n",
    "    'Afghanistan', 'Albania', 'Algeria', 'Angola', 'Argentina',\n",
    "    'Armenia', 'Australia', 'Austria', 'Azerbaijan', 'Bahamas',\n",
    "    'Bahrain', 'Bangladesh', 'Barbados', 'Belarus', 'Belgium',\n",
    "    'Belize', 'Benin', 'Bhutan', 'Bolivia',\n",
    "    'Bosnia and Herzegovina'\n",
    "    \n",
    "    55.70000076,  51.40000153,  50.5       ,  75.69999695,\n",
    "    58.40000153,  40.09999847,  61.5       ,  57.09999847,\n",
    "    60.90000153,  66.59999847,  60.40000153,  68.09999847,\n",
    "    66.90000153,  53.40000153,  48.59999847,  56.79999924,\n",
    "    71.59999847,  58.40000153,  70.40000153,  41.20000076\n",
    "   \n",
    "   \n",
    "  Crie um array usando Numpy com as porcentagens de empregabilidade. \n",
    "  \n",
    "  Qual a média desses valores? Qual a maior e menor valor? Qual o desvio padrão?"
   ]
  },
  {
   "cell_type": "code",
   "execution_count": null,
   "metadata": {},
   "outputs": [],
   "source": []
  },
  {
   "cell_type": "markdown",
   "metadata": {},
   "source": [
    "8. Retorne o nome do país com a maior porcentagem de empregabilidade. Dica: criar uma lista com o nome dos países também."
   ]
  },
  {
   "cell_type": "code",
   "execution_count": null,
   "metadata": {},
   "outputs": [],
   "source": []
  },
  {
   "cell_type": "markdown",
   "metadata": {},
   "source": [
    "9. Retorne uma versão padronizada dos valores fornecidos, por meio de um array Numpy. Em outras palavras, cada valor original deve ser traduzido para o o número de desvios padrão que o mesmo está longe da média dos dados. (Um número positivo indica um valor maior que a média e um número negativo indica um valor menor que a média.) \n",
    "\n",
    "    A equação que queremos fica assim então: ( valor - média ) / desvio padrão."
   ]
  },
  {
   "cell_type": "code",
   "execution_count": null,
   "metadata": {},
   "outputs": [],
   "source": []
  },
  {
   "cell_type": "markdown",
   "metadata": {},
   "source": [
    "Para mais exercícios, checar:\n",
    "\n",
    "https://www.machinelearningplus.com/python/101-numpy-exercises-python/"
   ]
  }
 ],
 "metadata": {
  "kernelspec": {
   "display_name": "Python 3",
   "language": "python",
   "name": "python3"
  },
  "language_info": {
   "codemirror_mode": {
    "name": "ipython",
    "version": 3
   },
   "file_extension": ".py",
   "mimetype": "text/x-python",
   "name": "python",
   "nbconvert_exporter": "python",
   "pygments_lexer": "ipython3",
   "version": "3.7.3"
  }
 },
 "nbformat": 4,
 "nbformat_minor": 2
}
